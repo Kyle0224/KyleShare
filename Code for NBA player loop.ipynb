{
 "cells": [
  {
   "cell_type": "code",
   "execution_count": null,
   "metadata": {},
   "outputs": [],
   "source": [
    "def player_split(vals):\n",
    "    return vals.split('\\\\')[0]\n",
    "for X in range(1994,2019):\n",
    "    #iterate the filename with variables\n",
    "    df=pd.read_csv(\"rawdata%d.csv\"%X)\n",
    "    #clean the redundant part of players' name \n",
    "    df.Player=df.Player.apply(player_split)\n",
    "    #add new column-year\n",
    "    df['year']=X\n",
    "    #select and drop the rows that one player has several teams\n",
    "    droplist=df[df.duplicated(subset=['Player'],keep='first')]\n",
    "    df=df.drop(droplist.index, axis=0)\n",
    "    #select and drop the rows that column position has invalid value except for those 5 positions \n",
    "    droplist2=df[df['Pos'].str.contains('-')]\n",
    "    df=df.drop(droplist2.index, axis=0)\n",
    "    #extract the columns we need\n",
    "    df_final = df[['Player','Pos','Tm','G','MP','WS','BPM','VORP','year']]\n",
    "    #generate the final csv file for each year\n",
    "    df_final.to_csv(\"finaldata%d.csv\"%X,index=False)\n",
    "    \n",
    "dfHW=pd.read_csv('player_data.csv')\n",
    "#fliter out the players who retired before 1994\n",
    "dfHW=dfHW.drop(dfHW[dfHW.year_end<1995].index,axis=0).reset_index(drop=True)\n",
    "dfHW.rename(columns={'name':'Player'},inplace=True)  \n",
    "#get the list of player using overlapping name\n",
    "c=dfHW.Player.duplicated(keep=False)\n",
    "dfHW[c].head()"
   ]
  }
 ],
 "metadata": {
  "kernelspec": {
   "display_name": "Python 3",
   "language": "python",
   "name": "python3"
  },
  "language_info": {
   "codemirror_mode": {
    "name": "ipython",
    "version": 3
   },
   "file_extension": ".py",
   "mimetype": "text/x-python",
   "name": "python",
   "nbconvert_exporter": "python",
   "pygments_lexer": "ipython3",
   "version": "3.7.3"
  }
 },
 "nbformat": 4,
 "nbformat_minor": 2
}
